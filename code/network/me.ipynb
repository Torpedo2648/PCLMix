{
 "cells": [
  {
   "cell_type": "code",
   "execution_count": 1,
   "id": "272d39e9-5de2-400f-8a61-70634a401d56",
   "metadata": {},
   "outputs": [
    {
     "name": "stderr",
     "output_type": "stream",
     "text": [
      "/usr/local/miniconda3/lib/python3.8/site-packages/tqdm/auto.py:21: TqdmWarning: IProgress not found. Please update jupyter and ipywidgets. See https://ipywidgets.readthedocs.io/en/stable/user_install.html\n",
      "  from .autonotebook import tqdm as notebook_tqdm\n"
     ]
    }
   ],
   "source": [
    "import torch\n",
    "import torch.nn as nn\n",
    "import torch.nn.functional as F\n",
    "\n",
    "from swin_decoder import SwinTransDecoder\n",
    "from _base import BaseModel2D\n",
    "from timm.models.layers import trunc_normal_\n",
    "from segmentation_models_pytorch.encoders import get_encoder\n",
    "from segmentation_models_pytorch.unet.decoder import UnetDecoder\n",
    "from segmentation_models_pytorch.base import SegmentationHead, ClassificationHead\n",
    "\n",
    "\n",
    "def kaiming_normal_init_weight(model):\n",
    "    for m in model.modules():\n",
    "        if isinstance(m, nn.Conv2d):\n",
    "            torch.nn.init.kaiming_normal_(m.weight)\n",
    "        elif isinstance(m, nn.BatchNorm2d):\n",
    "            m.weight.data.fill_(1)\n",
    "            m.bias.data.zero_()\n",
    "        elif isinstance(m, nn.Linear):\n",
    "            trunc_normal_(m.weight, std=.02)\n",
    "            if m.bias is not None:\n",
    "                nn.init.constant_(m.bias, 0)\n",
    "        elif isinstance(m, nn.LayerNorm):\n",
    "            nn.init.constant_(m.bias, 0)\n",
    "            nn.init.constant_(m.weight, 1.0)"
   ]
  },
  {
   "cell_type": "code",
   "execution_count": 2,
   "id": "d6fc0f6e-3fcb-4a4a-9dc4-b98730f39026",
   "metadata": {},
   "outputs": [],
   "source": [
    "encoder_name=\"resnet50\"\n",
    "encoder_depth=5\n",
    "encoder_weights=\"imagenet\"\n",
    "decoder_use_batchnorm=True\n",
    "decoder_channels=(256, 128, 64, 32, 16)\n",
    "decoder_attention_type=None\n",
    "in_channels=3\n",
    "classes=4\n",
    "activation=None\n",
    "embed_dim=96\n",
    "norm_layer=nn.LayerNorm\n",
    "img_size=224\n",
    "patch_size=4\n",
    "depths=[2, 2, 2, 2]\n",
    "num_heads=[3, 6, 12, 24]\n",
    "window_size=7\n",
    "qkv_bias=True\n",
    "qk_scale=None\n",
    "drop_rate=0.\n",
    "attn_drop_rate=0.\n",
    "use_checkpoint=False\n",
    "ape=True\n",
    "cls=True\n",
    "contrast_embed=False\n",
    "contrast_embed_dim=256\n",
    "contrast_embed_index=-3\n",
    "mlp_ratio=4.\n",
    "drop_path_rate=0.1\n",
    "final_upsample=\"expand_first\"\n",
    "patches_resolution=[56, 56]\n",
    "\n",
    "device = torch.device('cuda:0') if torch.cuda.is_available() else 'cpu'\n",
    "x =  torch.randn(1, 3, 224, 224).to(device)"
   ]
  },
  {
   "cell_type": "code",
   "execution_count": 3,
   "id": "f512094c-409b-417b-9cf2-6519a2e066f2",
   "metadata": {},
   "outputs": [
    {
     "name": "stderr",
     "output_type": "stream",
     "text": [
      "Downloading: \"https://download.pytorch.org/models/resnet50-19c8e357.pth\" to /root/.cache/torch/hub/checkpoints/resnet50-19c8e357.pth\n",
      "100%|██████████| 97.8M/97.8M [00:05<00:00, 20.4MB/s]\n",
      "/usr/local/miniconda3/lib/python3.8/site-packages/torch/functional.py:504: UserWarning: torch.meshgrid: in an upcoming release, it will be required to pass the indexing argument. (Triggered internally at ../aten/src/ATen/native/TensorShape.cpp:3483.)\n",
      "  return _VF.meshgrid(tensors, **kwargs)  # type: ignore[attr-defined]\n"
     ]
    }
   ],
   "source": [
    "encoder = get_encoder(\n",
    "    encoder_name,\n",
    "    in_channels=in_channels,\n",
    "    depth=encoder_depth,\n",
    "    weights=encoder_weights,\n",
    ").to(device)\n",
    "\n",
    "encoder_channels = encoder.out_channels\n",
    "\n",
    "cnn_decoder = UnetDecoder(\n",
    "    encoder_channels=encoder_channels,\n",
    "    decoder_channels=decoder_channels,\n",
    "    n_blocks=encoder_depth,\n",
    "    use_batchnorm=decoder_use_batchnorm,\n",
    "    center=True if encoder_name.startswith(\"vgg\") else False,\n",
    "    attention_type=decoder_attention_type,\n",
    ").to(device)\n",
    "\n",
    "seg_head = SegmentationHead(\n",
    "    in_channels=decoder_channels[-1],\n",
    "    out_channels=classes,\n",
    "    activation=activation,\n",
    "    kernel_size=3,\n",
    ").to(device)\n",
    "\n",
    "swin_decoder = SwinTransDecoder(\n",
    "    classes, embed_dim, norm_layer, img_size, patch_size, depths, num_heads,\n",
    "    window_size, qkv_bias, qk_scale, drop_rate, attn_drop_rate, use_checkpoint,\n",
    "    ape, mlp_ratio, drop_path_rate, final_upsample, patches_resolution,\n",
    "    encoder_channels\n",
    ").to(device)\n",
    "\n",
    "cls_head = ClassificationHead(in_channels=encoder_channels[-1], classes=4).to(device) if cls else None"
   ]
  },
  {
   "cell_type": "code",
   "execution_count": 4,
   "id": "c070afef-d3cc-454f-b6bc-9b62867ad1f6",
   "metadata": {},
   "outputs": [
    {
     "name": "stdout",
     "output_type": "stream",
     "text": [
      "0 torch.Size([1, 3, 224, 224])\n",
      "1 torch.Size([1, 64, 112, 112])\n",
      "2 torch.Size([1, 256, 56, 56])\n",
      "3 torch.Size([1, 512, 28, 28])\n",
      "4 torch.Size([1, 1024, 14, 14])\n",
      "5 torch.Size([1, 2048, 7, 7])\n",
      "\n",
      "torch.Size([1, 4, 224, 224])\n"
     ]
    }
   ],
   "source": [
    "features = encoder(x)\n",
    "f_each_layer = [f'{i.shape}' for i in features]\n",
    "for i,f in enumerate(f_each_layer):\n",
    "    print(i, f)\n",
    "print('')\n",
    "# seg = seg_head(cnn_decoder(*features))\n",
    "# print(seg.shape)\n",
    "seg_tf = swin_decoder(features, device)\n",
    "print(seg_tf.shape)\n",
    "# cls = cls_head(features[-1]) if cls_head else None\n",
    "# print(cls)"
   ]
  }
 ],
 "metadata": {
  "kernelspec": {
   "display_name": "Python 3 (ipykernel)",
   "language": "python",
   "name": "python3"
  },
  "language_info": {
   "codemirror_mode": {
    "name": "ipython",
    "version": 3
   },
   "file_extension": ".py",
   "mimetype": "text/x-python",
   "name": "python",
   "nbconvert_exporter": "python",
   "pygments_lexer": "ipython3",
   "version": "3.8.10"
  }
 },
 "nbformat": 4,
 "nbformat_minor": 5
}
