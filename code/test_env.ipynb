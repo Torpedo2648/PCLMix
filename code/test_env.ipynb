{
 "cells": [
  {
   "cell_type": "code",
   "execution_count": 1,
   "metadata": {},
   "outputs": [],
   "source": [
    "import torch"
   ]
  },
  {
   "cell_type": "code",
   "execution_count": 2,
   "metadata": {},
   "outputs": [
    {
     "data": {
      "text/plain": [
       "'2.0.0+cu118'"
      ]
     },
     "execution_count": 2,
     "metadata": {},
     "output_type": "execute_result"
    }
   ],
   "source": [
    "torch.__version__"
   ]
  },
  {
   "cell_type": "code",
   "execution_count": 3,
   "metadata": {},
   "outputs": [
    {
     "data": {
      "text/plain": [
       "True"
      ]
     },
     "execution_count": 3,
     "metadata": {},
     "output_type": "execute_result"
    }
   ],
   "source": [
    "torch.cuda.is_available()"
   ]
  },
  {
   "cell_type": "code",
   "execution_count": 4,
   "metadata": {},
   "outputs": [
    {
     "data": {
      "text/plain": [
       "tensor([0.], device='cuda:1')"
      ]
     },
     "execution_count": 4,
     "metadata": {},
     "output_type": "execute_result"
    }
   ],
   "source": [
    "torch.zeros(1).cuda(1)"
   ]
  },
  {
   "cell_type": "code",
   "execution_count": 5,
   "metadata": {},
   "outputs": [
    {
     "name": "stdout",
     "output_type": "stream",
     "text": [
      "0.12346\n"
     ]
    }
   ],
   "source": [
    "a = 0.123456789\n",
    "print('{:.5f}'.format(a))"
   ]
  },
  {
   "cell_type": "code",
   "execution_count": 6,
   "metadata": {},
   "outputs": [
    {
     "name": "stdout",
     "output_type": "stream",
     "text": [
      "ResNet50 FLOPs: 4.133742592 G\n",
      "ResNet50 Parameters: 25.557032 M\n"
     ]
    },
    {
     "name": "stderr",
     "output_type": "stream",
     "text": [
      "/home/duweihong/anaconda3/envs/swinmix/lib/python3.10/site-packages/torch/functional.py:504: UserWarning: torch.meshgrid: in an upcoming release, it will be required to pass the indexing argument. (Triggered internally at ../aten/src/ATen/native/TensorShape.cpp:3483.)\n",
      "  return _VF.meshgrid(tensors, **kwargs)  # type: ignore[attr-defined]\n"
     ]
    },
    {
     "name": "stdout",
     "output_type": "stream",
     "text": [
      "PCLMix FLOPs (without transformer decoder): 8.140453888 G\n",
      "PCLMix Parameters (without transformer decoder): 32.515268 M\n",
      "TriMix FLOPs: 6.898096128 G\n",
      "TriMix Parameters: 5.441292 M\n"
     ]
    }
   ],
   "source": [
    "import torch\n",
    "from thop import profile\n",
    "from torchvision.models import resnet50\n",
    "from network.unet_tf import UNetTF\n",
    "from network.unet import UNet\n",
    "\n",
    "\n",
    "model = resnet50()\n",
    "input_data = torch.randn(1, 3, 224, 224)  # 输入数据的形状\n",
    "\n",
    "# 使用thop.profile计算FLOPs\n",
    "flops, params = profile(model, inputs=(input_data,), verbose=False)\n",
    "print(f\"ResNet50 FLOPs: {flops / 1e9} G\")\n",
    "print(f\"ResNet50 Parameters: {params / 1e6} M\")\n",
    "\n",
    "save_mode_path = '../model/V1_contrast_fold1/scribble/best_net_dice.pth'\n",
    "model_pclmix = UNetTF(in_channels=1, classes=4).cuda()\n",
    "model_pclmix.load_state_dict(torch.load(save_mode_path))\n",
    "\n",
    "model_trimix = UNet(in_chns=1, class_num=4).cuda()\n",
    "input_data = torch.randn(1, 1, 224, 224).cuda()  # 输入数据的形状\n",
    "\n",
    "# 使用thop.profile计算FLOPs\n",
    "flops_pclmix, params_pclmix = profile(model_pclmix, inputs=(input_data,), verbose=False)\n",
    "print(f\"PCLMix FLOPs (without transformer decoder): {flops_pclmix / 1e9} G\")\n",
    "print(f\"PCLMix Parameters (without transformer decoder): {params_pclmix / 1e6} M\")\n",
    "\n",
    "flops_trimix, params_trimix = profile(model_trimix, inputs=(input_data,), verbose=False)\n",
    "print(f\"TriMix FLOPs: {flops_trimix*3 / 1e9} G\")\n",
    "print(f\"TriMix Parameters: {params_trimix*3 / 1e6} M\")\n"
   ]
  },
  {
   "cell_type": "markdown",
   "metadata": {},
   "source": [
    "ResNet50 FLOPs: 4.133742592 G\n",
    "ResNet50 Parameters: 25.557032 M\n",
    "PCLMix FLOPs (without transformer decoder): 8.140453888 G\n",
    "PCLMix Parameters (without transformer decoder): 32.515268 M\n",
    "TriMix FLOPs: 6.898096128 G\n",
    "TriMix Parameters: 5.441292 M"
   ]
  }
 ],
 "metadata": {
  "kernelspec": {
   "display_name": "base",
   "language": "python",
   "name": "python3"
  },
  "language_info": {
   "codemirror_mode": {
    "name": "ipython",
    "version": 3
   },
   "file_extension": ".py",
   "mimetype": "text/x-python",
   "name": "python",
   "nbconvert_exporter": "python",
   "pygments_lexer": "ipython3",
   "version": "3.10.13"
  }
 },
 "nbformat": 4,
 "nbformat_minor": 2
}
